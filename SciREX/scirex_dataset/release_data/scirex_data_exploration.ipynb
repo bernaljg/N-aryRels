{
 "cells": [
  {
   "cell_type": "code",
   "execution_count": 2,
   "metadata": {},
   "outputs": [],
   "source": [
    "import pandas as pd"
   ]
  },
  {
   "cell_type": "code",
   "execution_count": 3,
   "metadata": {},
   "outputs": [],
   "source": [
    "train = pd.read_json('train.jsonl',lines=True)"
   ]
  },
  {
   "cell_type": "code",
   "execution_count": 4,
   "metadata": {},
   "outputs": [
    {
     "data": {
      "text/plain": [
       "[{'Material': 'Cityscapes',\n",
       "  'Method': 'FRRN',\n",
       "  'Metric': 'Frame__fps_',\n",
       "  'Task': 'Real-Time_Semantic_Segmentation',\n",
       "  'score': '2.1'},\n",
       " {'Material': 'Cityscapes',\n",
       "  'Method': 'FRRN',\n",
       "  'Metric': 'Mean_IoU',\n",
       "  'Task': 'Semantic_Segmentation',\n",
       "  'score': '71.8%'},\n",
       " {'Material': 'Cityscapes',\n",
       "  'Method': 'FRRN',\n",
       "  'Metric': 'Time__ms_',\n",
       "  'Task': 'Real-Time_Semantic_Segmentation',\n",
       "  'score': '469'},\n",
       " {'Material': 'Cityscapes',\n",
       "  'Method': 'FRRN',\n",
       "  'Metric': 'mIoU',\n",
       "  'Task': 'Real-Time_Semantic_Segmentation',\n",
       "  'score': '71.8%'}]"
      ]
     },
     "execution_count": 4,
     "metadata": {},
     "output_type": "execute_result"
    }
   ],
   "source": [
    "train[0:10].n_ary_relations[0]"
   ]
  },
  {
   "cell_type": "code",
   "execution_count": 5,
   "metadata": {},
   "outputs": [
    {
     "data": {
      "text/html": [
       "<div>\n",
       "<style scoped>\n",
       "    .dataframe tbody tr th:only-of-type {\n",
       "        vertical-align: middle;\n",
       "    }\n",
       "\n",
       "    .dataframe tbody tr th {\n",
       "        vertical-align: top;\n",
       "    }\n",
       "\n",
       "    .dataframe thead th {\n",
       "        text-align: right;\n",
       "    }\n",
       "</style>\n",
       "<table border=\"1\" class=\"dataframe\">\n",
       "  <thead>\n",
       "    <tr style=\"text-align: right;\">\n",
       "      <th></th>\n",
       "      <th>coref</th>\n",
       "      <th>coref_non_salient</th>\n",
       "      <th>doc_id</th>\n",
       "      <th>method_subrelations</th>\n",
       "      <th>n_ary_relations</th>\n",
       "      <th>ner</th>\n",
       "      <th>sections</th>\n",
       "      <th>sentences</th>\n",
       "      <th>words</th>\n",
       "    </tr>\n",
       "  </thead>\n",
       "  <tbody>\n",
       "    <tr>\n",
       "      <th>0</th>\n",
       "      <td>{'Cityscapes': [[1260, 1261], [1272, 1273], [4...</td>\n",
       "      <td>{'0': [[1966, 1970], [2024, 2028], [5195, 5198...</td>\n",
       "      <td>000f90380d768a85e2316225854fc377c079b5c4</td>\n",
       "      <td>{'FRRN': [[[0, 4], 'FRRN']]}</td>\n",
       "      <td>[{'Material': 'Cityscapes', 'Method': 'FRRN', ...</td>\n",
       "      <td>[[0, 5, Method], [6, 8, Task], [14, 17, Task],...</td>\n",
       "      <td>[[0, 11], [11, 238], [238, 1185], [1185, 2029]...</td>\n",
       "      <td>[[0, 11], [11, 14], [14, 43], [43, 71], [71, 1...</td>\n",
       "      <td>[Full, -, Resolution, Residual, Networks, for,...</td>\n",
       "    </tr>\n",
       "    <tr>\n",
       "      <th>1</th>\n",
       "      <td>{'Dice-based_loss': [[875, 878], [1907, 1909],...</td>\n",
       "      <td>{'0': [[2152, 2153], [2155, 2156]], '1': [[363...</td>\n",
       "      <td>0012de6bec1f25599e4f02517637e531a71909b9</td>\n",
       "      <td>{'V-Net___Dice-based_loss': [[[0, 5], 'V-Net']...</td>\n",
       "      <td>[{'Material': 'PROMISE_2012', 'Method': 'V-Net...</td>\n",
       "      <td>[[2, 5, Method], [11, 15, Task], [15, 18, Meth...</td>\n",
       "      <td>[[0, 213], [213, 913], [913, 1749], [1749, 204...</td>\n",
       "      <td>[[0, 15], [15, 39], [39, 65], [65, 87], [87, 1...</td>\n",
       "      <td>[document, :, V, -, Net, :, Fully, Convolution...</td>\n",
       "    </tr>\n",
       "    <tr>\n",
       "      <th>2</th>\n",
       "      <td>{'BLEU-1': [], 'BLEU-4': [], 'BiDAF': [[2, 7],...</td>\n",
       "      <td>{'0': [[1625, 1630], [4922, 4927]], '1': [[136...</td>\n",
       "      <td>007ab5528b3bd310a80d553cccad4b78dc496b02</td>\n",
       "      <td>{'BiDAF': [[[0, 5], 'BiDAF']], 'BiDAF__ensembl...</td>\n",
       "      <td>[{'Material': 'CNN___Daily_Mail', 'Method': 'B...</td>\n",
       "      <td>[[2, 7, Method], [8, 10, Task], [10, 12, Task]...</td>\n",
       "      <td>[[0, 169], [169, 837], [837, 975], [975, 1088]...</td>\n",
       "      <td>[[0, 10], [10, 36], [36, 47], [47, 86], [86, 1...</td>\n",
       "      <td>[document, :, Bi, -, Directional, Attention, F...</td>\n",
       "    </tr>\n",
       "    <tr>\n",
       "      <th>3</th>\n",
       "      <td>{'50D_stacked_TC-LSTMs': [[565, 568], [569, 57...</td>\n",
       "      <td>{'0': [[208, 211], [224, 227], [718, 720], [19...</td>\n",
       "      <td>0095c269e7d0c990249312687fc43521019809c4</td>\n",
       "      <td>{'50D_stacked_TC-LSTMs': [[[0, 20], '50D_stack...</td>\n",
       "      <td>[{'Material': 'SNLI', 'Method': '50D_stacked_T...</td>\n",
       "      <td>[[2, 7, Task], [20, 24, Task], [25, 28, Method...</td>\n",
       "      <td>[[0, 149], [149, 253], [253, 339], [339, 430],...</td>\n",
       "      <td>[[0, 11], [11, 29], [29, 59], [59, 82], [82, 1...</td>\n",
       "      <td>[document, :, Modelling, Interaction, of, Sent...</td>\n",
       "    </tr>\n",
       "    <tr>\n",
       "      <th>4</th>\n",
       "      <td>{'AlphaGo_Zero': [[71, 74], [612, 613], [724, ...</td>\n",
       "      <td>{'0': [[709, 712], [941, 943], [1086, 1088], [...</td>\n",
       "      <td>00b1cdc5bd77bf27f9b1ca630365eeeb456913b4</td>\n",
       "      <td>{'AlphaGo_Zero': [[[0, 12], 'AlphaGo_Zero']], ...</td>\n",
       "      <td>[{'Material': 'ELO_Ratings', 'Method': 'AlphaG...</td>\n",
       "      <td>[[3, 4, Task], [5, 6, Task], [12, 16, Method],...</td>\n",
       "      <td>[[0, 2346], [2346, 2349], [2349, 2352], [2352,...</td>\n",
       "      <td>[[0, 16], [16, 34], [34, 67], [67, 96], [96, 1...</td>\n",
       "      <td>[document, :, Mastering, Chess, and, Shogi, by...</td>\n",
       "    </tr>\n",
       "    <tr>\n",
       "      <th>...</th>\n",
       "      <td>...</td>\n",
       "      <td>...</td>\n",
       "      <td>...</td>\n",
       "      <td>...</td>\n",
       "      <td>...</td>\n",
       "      <td>...</td>\n",
       "      <td>...</td>\n",
       "      <td>...</td>\n",
       "      <td>...</td>\n",
       "    </tr>\n",
       "    <tr>\n",
       "      <th>301</th>\n",
       "      <td>{'10_conv__4_FC_layers': [], 'Deep_CNN': [[3, ...</td>\n",
       "      <td>{'0': [[2537, 2539], [2929, 2931]], '1': [[108...</td>\n",
       "      <td>45b559e6271570598602fcf9777ed6f2f2d133e6</td>\n",
       "      <td>{'Deep_CNN__10_conv__4_FC_layers___multi-scale...</td>\n",
       "      <td>[{'Material': 'Switchboard___Hub500', 'Method'...</td>\n",
       "      <td>[[3, 8, Method], [9, 10, Task], [10, 13, Metho...</td>\n",
       "      <td>[[0, 286], [286, 1028], [1028, 1034], [1034, 1...</td>\n",
       "      <td>[[0, 10], [10, 40], [40, 63], [63, 78], [78, 9...</td>\n",
       "      <td>[document, :, Very, Deep, Multilingual, Convol...</td>\n",
       "    </tr>\n",
       "    <tr>\n",
       "      <th>302</th>\n",
       "      <td>{'Leeds_Sports_Poses': [[3834, 3837], [3884, 3...</td>\n",
       "      <td>{'0': [[655, 658], [784, 786], [829, 830], [97...</td>\n",
       "      <td>45e8ef229fae18b0a2ab328037d8e520866c3c81</td>\n",
       "      <td>{'Pyramid_Residual_Modules__PRMs_': [[[0, 24],...</td>\n",
       "      <td>[{'Material': 'Leeds_Sports_Poses', 'Method': ...</td>\n",
       "      <td>[[3, 5, Method], [6, 9, Task], [9, 13, Task], ...</td>\n",
       "      <td>[[0, 214], [214, 1064], [1064, 1706], [1706, 1...</td>\n",
       "      <td>[[0, 9], [9, 23], [23, 44], [44, 75], [75, 97]...</td>\n",
       "      <td>[document, :, Learning, Feature, Pyramids, for...</td>\n",
       "    </tr>\n",
       "    <tr>\n",
       "      <th>303</th>\n",
       "      <td>{'Percentage_error': [[226, 229], [230, 231], ...</td>\n",
       "      <td>{'0': [[2177, 2182], [2424, 2426]], '1': [[691...</td>\n",
       "      <td>45fdc73a239e9c6ea65e98c96f6a2d6dc35d6f72</td>\n",
       "      <td>{'QCNN-10L-256FM': [[[0, 14], 'QCNN-10L-256FM']]}</td>\n",
       "      <td>[{'Material': 'TIMIT', 'Method': 'QCNN-10L-256...</td>\n",
       "      <td>[[2, 6, Method], [7, 15, Task], [18, 21, Metho...</td>\n",
       "      <td>[[0, 315], [315, 850], [850, 1019], [1019, 107...</td>\n",
       "      <td>[[0, 15], [15, 56], [56, 110], [110, 132], [13...</td>\n",
       "      <td>[document, :, Quaternion, Convolutional, Neura...</td>\n",
       "    </tr>\n",
       "    <tr>\n",
       "      <th>304</th>\n",
       "      <td>{'BRATS-2013': [[267, 270], [1263, 1270], [127...</td>\n",
       "      <td>{'0': [[775, 779], [1113, 1116]], '1': [[2208,...</td>\n",
       "      <td>46018a894d533813d67322827ca51f78aed6d59e</td>\n",
       "      <td>{'InputCascadeCNN': [[[0, 15], 'InputCascadeCN...</td>\n",
       "      <td>[{'Material': 'BRATS-2013', 'Method': 'InputCa...</td>\n",
       "      <td>[[2, 5, Task], [6, 9, Method], [17, 23, Method...</td>\n",
       "      <td>[[0, 306], [306, 1454], [1454, 2464], [2464, 3...</td>\n",
       "      <td>[[0, 10], [10, 32], [32, 51], [51, 77], [77, 1...</td>\n",
       "      <td>[document, :, Brain, Tumor, Segmentation, with...</td>\n",
       "    </tr>\n",
       "    <tr>\n",
       "      <th>305</th>\n",
       "      <td>{'AE': [[68, 74], [151, 154], [1291, 1296]], '...</td>\n",
       "      <td>{'0': [[190, 193], [433, 435]], '1': [[586, 58...</td>\n",
       "      <td>462d4e265c9cbe9ad5feeb9a7736184a90b36fed</td>\n",
       "      <td>{'CRF___AutoEncoder': [[[0, 3], 'CRF'], [[6, 1...</td>\n",
       "      <td>[{'Material': 'CoNLL_2003__English_', 'Method'...</td>\n",
       "      <td>[[6, 10, Method], [11, 13, Task], [24, 27, Met...</td>\n",
       "      <td>[[0, 187], [187, 788], [788, 818], [818, 1015]...</td>\n",
       "      <td>[[0, 13], [13, 40], [40, 75], [75, 116], [116,...</td>\n",
       "      <td>[document, :, Evaluating, the, Utility, of, Ha...</td>\n",
       "    </tr>\n",
       "  </tbody>\n",
       "</table>\n",
       "<p>306 rows × 9 columns</p>\n",
       "</div>"
      ],
      "text/plain": [
       "                                                 coref  \\\n",
       "0    {'Cityscapes': [[1260, 1261], [1272, 1273], [4...   \n",
       "1    {'Dice-based_loss': [[875, 878], [1907, 1909],...   \n",
       "2    {'BLEU-1': [], 'BLEU-4': [], 'BiDAF': [[2, 7],...   \n",
       "3    {'50D_stacked_TC-LSTMs': [[565, 568], [569, 57...   \n",
       "4    {'AlphaGo_Zero': [[71, 74], [612, 613], [724, ...   \n",
       "..                                                 ...   \n",
       "301  {'10_conv__4_FC_layers': [], 'Deep_CNN': [[3, ...   \n",
       "302  {'Leeds_Sports_Poses': [[3834, 3837], [3884, 3...   \n",
       "303  {'Percentage_error': [[226, 229], [230, 231], ...   \n",
       "304  {'BRATS-2013': [[267, 270], [1263, 1270], [127...   \n",
       "305  {'AE': [[68, 74], [151, 154], [1291, 1296]], '...   \n",
       "\n",
       "                                     coref_non_salient  \\\n",
       "0    {'0': [[1966, 1970], [2024, 2028], [5195, 5198...   \n",
       "1    {'0': [[2152, 2153], [2155, 2156]], '1': [[363...   \n",
       "2    {'0': [[1625, 1630], [4922, 4927]], '1': [[136...   \n",
       "3    {'0': [[208, 211], [224, 227], [718, 720], [19...   \n",
       "4    {'0': [[709, 712], [941, 943], [1086, 1088], [...   \n",
       "..                                                 ...   \n",
       "301  {'0': [[2537, 2539], [2929, 2931]], '1': [[108...   \n",
       "302  {'0': [[655, 658], [784, 786], [829, 830], [97...   \n",
       "303  {'0': [[2177, 2182], [2424, 2426]], '1': [[691...   \n",
       "304  {'0': [[775, 779], [1113, 1116]], '1': [[2208,...   \n",
       "305  {'0': [[190, 193], [433, 435]], '1': [[586, 58...   \n",
       "\n",
       "                                       doc_id  \\\n",
       "0    000f90380d768a85e2316225854fc377c079b5c4   \n",
       "1    0012de6bec1f25599e4f02517637e531a71909b9   \n",
       "2    007ab5528b3bd310a80d553cccad4b78dc496b02   \n",
       "3    0095c269e7d0c990249312687fc43521019809c4   \n",
       "4    00b1cdc5bd77bf27f9b1ca630365eeeb456913b4   \n",
       "..                                        ...   \n",
       "301  45b559e6271570598602fcf9777ed6f2f2d133e6   \n",
       "302  45e8ef229fae18b0a2ab328037d8e520866c3c81   \n",
       "303  45fdc73a239e9c6ea65e98c96f6a2d6dc35d6f72   \n",
       "304  46018a894d533813d67322827ca51f78aed6d59e   \n",
       "305  462d4e265c9cbe9ad5feeb9a7736184a90b36fed   \n",
       "\n",
       "                                   method_subrelations  \\\n",
       "0                         {'FRRN': [[[0, 4], 'FRRN']]}   \n",
       "1    {'V-Net___Dice-based_loss': [[[0, 5], 'V-Net']...   \n",
       "2    {'BiDAF': [[[0, 5], 'BiDAF']], 'BiDAF__ensembl...   \n",
       "3    {'50D_stacked_TC-LSTMs': [[[0, 20], '50D_stack...   \n",
       "4    {'AlphaGo_Zero': [[[0, 12], 'AlphaGo_Zero']], ...   \n",
       "..                                                 ...   \n",
       "301  {'Deep_CNN__10_conv__4_FC_layers___multi-scale...   \n",
       "302  {'Pyramid_Residual_Modules__PRMs_': [[[0, 24],...   \n",
       "303  {'QCNN-10L-256FM': [[[0, 14], 'QCNN-10L-256FM']]}   \n",
       "304  {'InputCascadeCNN': [[[0, 15], 'InputCascadeCN...   \n",
       "305  {'CRF___AutoEncoder': [[[0, 3], 'CRF'], [[6, 1...   \n",
       "\n",
       "                                       n_ary_relations  \\\n",
       "0    [{'Material': 'Cityscapes', 'Method': 'FRRN', ...   \n",
       "1    [{'Material': 'PROMISE_2012', 'Method': 'V-Net...   \n",
       "2    [{'Material': 'CNN___Daily_Mail', 'Method': 'B...   \n",
       "3    [{'Material': 'SNLI', 'Method': '50D_stacked_T...   \n",
       "4    [{'Material': 'ELO_Ratings', 'Method': 'AlphaG...   \n",
       "..                                                 ...   \n",
       "301  [{'Material': 'Switchboard___Hub500', 'Method'...   \n",
       "302  [{'Material': 'Leeds_Sports_Poses', 'Method': ...   \n",
       "303  [{'Material': 'TIMIT', 'Method': 'QCNN-10L-256...   \n",
       "304  [{'Material': 'BRATS-2013', 'Method': 'InputCa...   \n",
       "305  [{'Material': 'CoNLL_2003__English_', 'Method'...   \n",
       "\n",
       "                                                   ner  \\\n",
       "0    [[0, 5, Method], [6, 8, Task], [14, 17, Task],...   \n",
       "1    [[2, 5, Method], [11, 15, Task], [15, 18, Meth...   \n",
       "2    [[2, 7, Method], [8, 10, Task], [10, 12, Task]...   \n",
       "3    [[2, 7, Task], [20, 24, Task], [25, 28, Method...   \n",
       "4    [[3, 4, Task], [5, 6, Task], [12, 16, Method],...   \n",
       "..                                                 ...   \n",
       "301  [[3, 8, Method], [9, 10, Task], [10, 13, Metho...   \n",
       "302  [[3, 5, Method], [6, 9, Task], [9, 13, Task], ...   \n",
       "303  [[2, 6, Method], [7, 15, Task], [18, 21, Metho...   \n",
       "304  [[2, 5, Task], [6, 9, Method], [17, 23, Method...   \n",
       "305  [[6, 10, Method], [11, 13, Task], [24, 27, Met...   \n",
       "\n",
       "                                              sections  \\\n",
       "0    [[0, 11], [11, 238], [238, 1185], [1185, 2029]...   \n",
       "1    [[0, 213], [213, 913], [913, 1749], [1749, 204...   \n",
       "2    [[0, 169], [169, 837], [837, 975], [975, 1088]...   \n",
       "3    [[0, 149], [149, 253], [253, 339], [339, 430],...   \n",
       "4    [[0, 2346], [2346, 2349], [2349, 2352], [2352,...   \n",
       "..                                                 ...   \n",
       "301  [[0, 286], [286, 1028], [1028, 1034], [1034, 1...   \n",
       "302  [[0, 214], [214, 1064], [1064, 1706], [1706, 1...   \n",
       "303  [[0, 315], [315, 850], [850, 1019], [1019, 107...   \n",
       "304  [[0, 306], [306, 1454], [1454, 2464], [2464, 3...   \n",
       "305  [[0, 187], [187, 788], [788, 818], [818, 1015]...   \n",
       "\n",
       "                                             sentences  \\\n",
       "0    [[0, 11], [11, 14], [14, 43], [43, 71], [71, 1...   \n",
       "1    [[0, 15], [15, 39], [39, 65], [65, 87], [87, 1...   \n",
       "2    [[0, 10], [10, 36], [36, 47], [47, 86], [86, 1...   \n",
       "3    [[0, 11], [11, 29], [29, 59], [59, 82], [82, 1...   \n",
       "4    [[0, 16], [16, 34], [34, 67], [67, 96], [96, 1...   \n",
       "..                                                 ...   \n",
       "301  [[0, 10], [10, 40], [40, 63], [63, 78], [78, 9...   \n",
       "302  [[0, 9], [9, 23], [23, 44], [44, 75], [75, 97]...   \n",
       "303  [[0, 15], [15, 56], [56, 110], [110, 132], [13...   \n",
       "304  [[0, 10], [10, 32], [32, 51], [51, 77], [77, 1...   \n",
       "305  [[0, 13], [13, 40], [40, 75], [75, 116], [116,...   \n",
       "\n",
       "                                                 words  \n",
       "0    [Full, -, Resolution, Residual, Networks, for,...  \n",
       "1    [document, :, V, -, Net, :, Fully, Convolution...  \n",
       "2    [document, :, Bi, -, Directional, Attention, F...  \n",
       "3    [document, :, Modelling, Interaction, of, Sent...  \n",
       "4    [document, :, Mastering, Chess, and, Shogi, by...  \n",
       "..                                                 ...  \n",
       "301  [document, :, Very, Deep, Multilingual, Convol...  \n",
       "302  [document, :, Learning, Feature, Pyramids, for...  \n",
       "303  [document, :, Quaternion, Convolutional, Neura...  \n",
       "304  [document, :, Brain, Tumor, Segmentation, with...  \n",
       "305  [document, :, Evaluating, the, Utility, of, Ha...  \n",
       "\n",
       "[306 rows x 9 columns]"
      ]
     },
     "execution_count": 5,
     "metadata": {},
     "output_type": "execute_result"
    }
   ],
   "source": [
    "train"
   ]
  },
  {
   "cell_type": "code",
   "execution_count": 6,
   "metadata": {},
   "outputs": [],
   "source": [
    "import semanticscholar as sch"
   ]
  },
  {
   "cell_type": "code",
   "execution_count": 7,
   "metadata": {},
   "outputs": [],
   "source": [
    "import arxiv"
   ]
  },
  {
   "cell_type": "code",
   "execution_count": 8,
   "metadata": {},
   "outputs": [
    {
     "name": "stdout",
     "output_type": "stream",
     "text": [
      "1611.08323\n",
      "1606.04797\n",
      "1611.01603\n",
      "1605.05573\n",
      "1712.01815\n",
      "1703.07834\n",
      "1709.08624\n",
      "1611.05431\n",
      "1505.00468\n",
      "1612.04357\n",
      "1803.02188\n",
      "1507.00814\n",
      "1606.03657\n",
      "1607.01759\n",
      "1707.02786\n",
      "1812.05050\n",
      "1603.05959\n",
      "Error\n",
      "None\n"
     ]
    },
    {
     "name": "stderr",
     "output_type": "stream",
     "text": [
      "Traceback (most recent call last):\n",
      "  File \"<ipython-input-8-e1976d1a92dd>\", line 12, in <module>\n",
      "    paper = arxiv.query(id_list=[arxivId])[0]\n",
      "  File \"/Users/jimenezgutierrez.1/opt/anaconda3/lib/python3.7/site-packages/arxiv/arxiv.py\", line 217, in query\n",
      "    id_list=','.join(id_list),\n",
      "TypeError: sequence item 0: expected str instance, NoneType found\n"
     ]
    },
    {
     "name": "stdout",
     "output_type": "stream",
     "text": [
      "1604.04112\n",
      "1609.05158\n",
      "1904.07418\n",
      "1605.07146\n",
      "1712.00726\n",
      "1805.07036\n",
      "1704.04651\n",
      "Error\n",
      "None\n"
     ]
    },
    {
     "name": "stderr",
     "output_type": "stream",
     "text": [
      "Traceback (most recent call last):\n",
      "  File \"<ipython-input-8-e1976d1a92dd>\", line 12, in <module>\n",
      "    paper = arxiv.query(id_list=[arxivId])[0]\n",
      "  File \"/Users/jimenezgutierrez.1/opt/anaconda3/lib/python3.7/site-packages/arxiv/arxiv.py\", line 217, in query\n",
      "    id_list=','.join(id_list),\n",
      "TypeError: sequence item 0: expected str instance, NoneType found\n"
     ]
    },
    {
     "name": "stdout",
     "output_type": "stream",
     "text": [
      "1511.02228\n",
      "1704.00138\n",
      "1810.09951\n",
      "1804.08199\n",
      "Error\n",
      "None\n"
     ]
    },
    {
     "name": "stderr",
     "output_type": "stream",
     "text": [
      "Traceback (most recent call last):\n",
      "  File \"<ipython-input-8-e1976d1a92dd>\", line 12, in <module>\n",
      "    paper = arxiv.query(id_list=[arxivId])[0]\n",
      "  File \"/Users/jimenezgutierrez.1/opt/anaconda3/lib/python3.7/site-packages/arxiv/arxiv.py\", line 217, in query\n",
      "    id_list=','.join(id_list),\n",
      "TypeError: sequence item 0: expected str instance, NoneType found\n"
     ]
    },
    {
     "name": "stdout",
     "output_type": "stream",
     "text": [
      "1701.06264\n",
      "1610.03771\n",
      "1409.5185\n",
      "1511.04491\n",
      "1807.04990\n",
      "1505.04597\n",
      "1409.0473\n",
      "1611.07004\n",
      "1711.03213\n",
      "1706.03059\n",
      "Error\n",
      "None\n"
     ]
    },
    {
     "name": "stderr",
     "output_type": "stream",
     "text": [
      "Traceback (most recent call last):\n",
      "  File \"<ipython-input-8-e1976d1a92dd>\", line 12, in <module>\n",
      "    paper = arxiv.query(id_list=[arxivId])[0]\n",
      "  File \"/Users/jimenezgutierrez.1/opt/anaconda3/lib/python3.7/site-packages/arxiv/arxiv.py\", line 217, in query\n",
      "    id_list=','.join(id_list),\n",
      "TypeError: sequence item 0: expected str instance, NoneType found\n"
     ]
    },
    {
     "name": "stdout",
     "output_type": "stream",
     "text": [
      "1503.03244\n",
      "1511.02793\n",
      "1603.01360\n",
      "1902.01275\n",
      "1704.03373\n",
      "1805.02220\n",
      "1605.08803\n",
      "1707.01629\n",
      "1804.03786\n",
      "1802.04394\n",
      "1501.00092\n",
      "1708.07517\n",
      "1812.02391\n",
      "1603.06147\n",
      "1606.06357\n",
      "1806.04185\n",
      "1301.3557\n",
      "1706.03762\n",
      "1406.1078\n",
      "1811.11482\n",
      "1806.06228\n",
      "1511.07289\n",
      "1808.10143\n",
      "Error\n",
      "1808.10143\n"
     ]
    },
    {
     "name": "stderr",
     "output_type": "stream",
     "text": [
      "Traceback (most recent call last):\n",
      "  File \"<ipython-input-8-e1976d1a92dd>\", line 10, in <module>\n",
      "    arxivId = paper['arxivId']\n",
      "KeyError: 'arxivId'\n"
     ]
    },
    {
     "name": "stdout",
     "output_type": "stream",
     "text": [
      "1802.02142\n",
      "1604.01850\n",
      "1807.06653\n",
      "1609.01704\n",
      "1704.01212\n",
      "1804.09337\n",
      "1605.07648\n",
      "1607.07086\n",
      "1612.01925\n",
      "1704.08545\n",
      "1508.05326\n",
      "1503.04596\n",
      "1506.03767\n",
      "1408.1717\n",
      "1207.4708\n",
      "1704.08803\n",
      "1607.08764\n",
      "1805.04855\n",
      "1603.06937\n",
      "1706.08090\n",
      "1412.6806\n",
      "1611.01722\n",
      "1807.04067\n",
      "1603.06042\n",
      "1206.2944\n",
      "1511.06038\n",
      "1604.02426\n",
      "1704.03976\n",
      "1603.01547\n",
      "1512.02167\n",
      "Error\n",
      "None\n"
     ]
    },
    {
     "name": "stderr",
     "output_type": "stream",
     "text": [
      "Traceback (most recent call last):\n",
      "  File \"<ipython-input-8-e1976d1a92dd>\", line 12, in <module>\n",
      "    paper = arxiv.query(id_list=[arxivId])[0]\n",
      "  File \"/Users/jimenezgutierrez.1/opt/anaconda3/lib/python3.7/site-packages/arxiv/arxiv.py\", line 217, in query\n",
      "    id_list=','.join(id_list),\n",
      "TypeError: sequence item 0: expected str instance, NoneType found\n"
     ]
    },
    {
     "name": "stdout",
     "output_type": "stream",
     "text": [
      "1511.08630\n",
      "1606.04080\n",
      "1312.6229\n",
      "1903.04167\n",
      "1901.09590\n",
      "1509.06664\n",
      "1707.09098\n",
      "1606.01549\n",
      "1407.3867\n",
      "1707.05236\n",
      "1511.06581\n",
      "1703.05693\n",
      "1703.03400\n",
      "1812.01207\n",
      "1809.07950\n",
      "1703.04247\n",
      "1508.07909\n",
      "1810.09311\n",
      "1605.06240\n",
      "1812.09916\n",
      "1811.01136\n",
      "1701.07717\n",
      "1711.02281\n",
      "1504.01013\n",
      "1706.06978\n",
      "1610.05256\n",
      "1706.09579\n",
      "1711.01068\n",
      "1711.04903\n",
      "1506.08959\n",
      "1711.10295\n",
      "1808.09419\n",
      "1901.05280\n",
      "1507.04296\n",
      "1703.06870\n",
      "1712.05884\n",
      "1606.02891\n",
      "1403.6652\n",
      "Error\n",
      "1403.6652\n"
     ]
    },
    {
     "name": "stderr",
     "output_type": "stream",
     "text": [
      "Traceback (most recent call last):\n",
      "  File \"<ipython-input-8-e1976d1a92dd>\", line 10, in <module>\n",
      "    arxivId = paper['arxivId']\n",
      "KeyError: 'arxivId'\n"
     ]
    },
    {
     "name": "stdout",
     "output_type": "stream",
     "text": [
      "1506.04579\n",
      "1606.03126\n",
      "Error\n",
      "None\n"
     ]
    },
    {
     "name": "stderr",
     "output_type": "stream",
     "text": [
      "Traceback (most recent call last):\n",
      "  File \"<ipython-input-8-e1976d1a92dd>\", line 12, in <module>\n",
      "    paper = arxiv.query(id_list=[arxivId])[0]\n",
      "  File \"/Users/jimenezgutierrez.1/opt/anaconda3/lib/python3.7/site-packages/arxiv/arxiv.py\", line 217, in query\n",
      "    id_list=','.join(id_list),\n",
      "TypeError: sequence item 0: expected str instance, NoneType found\n"
     ]
    },
    {
     "name": "stdout",
     "output_type": "stream",
     "text": [
      "1407.3068\n",
      "1601.02376\n",
      "1606.02858\n",
      "1511.02853\n",
      "1711.00199\n",
      "1511.05234\n",
      "1711.10871\n",
      "1412.1265\n",
      "1610.09027\n",
      "1802.05751\n",
      "1611.02200\n",
      "1805.08237\n",
      "1902.05509\n",
      "1609.07959\n",
      "1601.06759\n",
      "1603.05027\n",
      "Error\n",
      "None\n"
     ]
    },
    {
     "name": "stderr",
     "output_type": "stream",
     "text": [
      "Traceback (most recent call last):\n",
      "  File \"<ipython-input-8-e1976d1a92dd>\", line 12, in <module>\n",
      "    paper = arxiv.query(id_list=[arxivId])[0]\n",
      "  File \"/Users/jimenezgutierrez.1/opt/anaconda3/lib/python3.7/site-packages/arxiv/arxiv.py\", line 217, in query\n",
      "    id_list=','.join(id_list),\n",
      "TypeError: sequence item 0: expected str instance, NoneType found\n"
     ]
    },
    {
     "name": "stdout",
     "output_type": "stream",
     "text": [
      "1603.02139\n",
      "Error\n",
      "None\n"
     ]
    },
    {
     "name": "stderr",
     "output_type": "stream",
     "text": [
      "Traceback (most recent call last):\n",
      "  File \"<ipython-input-8-e1976d1a92dd>\", line 12, in <module>\n",
      "    paper = arxiv.query(id_list=[arxivId])[0]\n",
      "  File \"/Users/jimenezgutierrez.1/opt/anaconda3/lib/python3.7/site-packages/arxiv/arxiv.py\", line 217, in query\n",
      "    id_list=','.join(id_list),\n",
      "TypeError: sequence item 0: expected str instance, NoneType found\n"
     ]
    },
    {
     "name": "stdout",
     "output_type": "stream",
     "text": [
      "Error\n",
      "None\n"
     ]
    },
    {
     "name": "stderr",
     "output_type": "stream",
     "text": [
      "Traceback (most recent call last):\n",
      "  File \"<ipython-input-8-e1976d1a92dd>\", line 12, in <module>\n",
      "    paper = arxiv.query(id_list=[arxivId])[0]\n",
      "  File \"/Users/jimenezgutierrez.1/opt/anaconda3/lib/python3.7/site-packages/arxiv/arxiv.py\", line 217, in query\n",
      "    id_list=','.join(id_list),\n",
      "TypeError: sequence item 0: expected str instance, NoneType found\n"
     ]
    },
    {
     "name": "stdout",
     "output_type": "stream",
     "text": [
      "1207.0580\n",
      "1807.01270\n",
      "1611.00850\n",
      "1409.7495\n",
      "1511.02274\n",
      "1811.05181\n",
      "1809.11096\n",
      "Error\n",
      "None\n"
     ]
    },
    {
     "name": "stderr",
     "output_type": "stream",
     "text": [
      "Traceback (most recent call last):\n",
      "  File \"<ipython-input-8-e1976d1a92dd>\", line 12, in <module>\n",
      "    paper = arxiv.query(id_list=[arxivId])[0]\n",
      "  File \"/Users/jimenezgutierrez.1/opt/anaconda3/lib/python3.7/site-packages/arxiv/arxiv.py\", line 217, in query\n",
      "    id_list=','.join(id_list),\n",
      "TypeError: sequence item 0: expected str instance, NoneType found\n"
     ]
    },
    {
     "name": "stdout",
     "output_type": "stream",
     "text": [
      "1412.5567\n",
      "1901.02262\n",
      "1509.08985\n",
      "1603.06021\n",
      "1710.00925\n",
      "1802.05814\n",
      "1712.01034\n",
      "1606.08921\n",
      "1702.06925\n",
      "1707.09531\n",
      "1810.07599\n",
      "1506.07503\n",
      "1708.02312\n",
      "1603.08182\n",
      "1708.04896\n",
      "1802.06955\n",
      "1602.06023\n",
      "1606.02960\n",
      "1811.09386\n",
      "1707.09405\n",
      "1604.05529\n",
      "1904.01169\n",
      "1612.03144\n",
      "1603.05474\n",
      "1710.04026\n",
      "1810.04650\n",
      "1810.03541\n",
      "1512.03385\n",
      "1707.02968\n",
      "1506.03340\n",
      "1409.3660\n",
      "1808.01558\n",
      "1511.05493\n",
      "1703.06520\n",
      "1606.01455\n",
      "1611.01576\n",
      "1710.02224\n",
      "1704.03915\n",
      "1509.01626\n",
      "1802.08352\n",
      "1609.05284\n",
      "1709.05256\n",
      "1811.12608\n",
      "1703.06211\n",
      "1706.02596\n",
      "1811.02798\n",
      "Error\n",
      "None\n"
     ]
    },
    {
     "name": "stderr",
     "output_type": "stream",
     "text": [
      "Traceback (most recent call last):\n",
      "  File \"<ipython-input-8-e1976d1a92dd>\", line 12, in <module>\n",
      "    paper = arxiv.query(id_list=[arxivId])[0]\n",
      "  File \"/Users/jimenezgutierrez.1/opt/anaconda3/lib/python3.7/site-packages/arxiv/arxiv.py\", line 217, in query\n",
      "    id_list=','.join(id_list),\n",
      "TypeError: sequence item 0: expected str instance, NoneType found\n"
     ]
    },
    {
     "name": "stdout",
     "output_type": "stream",
     "text": [
      "1711.09020\n",
      "1701.05360\n",
      "1711.03953\n",
      "1701.00295\n",
      "1707.08052\n",
      "1704.03414\n",
      "1903.11410\n",
      "1712.02616\n",
      "1606.07947\n",
      "1511.00830\n",
      "1710.10903\n",
      "1805.08090\n",
      "1711.08028\n",
      "1611.01673\n",
      "1808.06281\n",
      "1710.06555\n",
      "1901.11504\n",
      "1704.03557\n",
      "1712.08273\n",
      "1511.05644\n",
      "1711.09724\n",
      "1511.06732\n",
      "1611.05774\n",
      "1711.07246\n",
      "1803.10225\n",
      "1412.1058\n",
      "1406.3332\n",
      "1901.04085\n",
      "1510.08160\n",
      "1711.07399\n",
      "1808.07018\n",
      "1807.09956\n",
      "1611.01587\n",
      "1606.07536\n",
      "1810.11654\n",
      "1612.00606\n",
      "1603.03793\n",
      "1711.02132\n",
      "1805.09300\n",
      "1502.03240\n",
      "1409.3215\n",
      "1807.01438\n",
      "1904.08900\n",
      "1811.00405\n",
      "Error\n",
      "None\n"
     ]
    },
    {
     "name": "stderr",
     "output_type": "stream",
     "text": [
      "Traceback (most recent call last):\n",
      "  File \"<ipython-input-8-e1976d1a92dd>\", line 12, in <module>\n",
      "    paper = arxiv.query(id_list=[arxivId])[0]\n",
      "  File \"/Users/jimenezgutierrez.1/opt/anaconda3/lib/python3.7/site-packages/arxiv/arxiv.py\", line 217, in query\n",
      "    id_list=','.join(id_list),\n",
      "TypeError: sequence item 0: expected str instance, NoneType found\n"
     ]
    },
    {
     "name": "stdout",
     "output_type": "stream",
     "text": [
      "1603.02814\n",
      "1711.04289\n",
      "1509.06461\n",
      "1802.05577\n",
      "1710.10723\n",
      "Error\n",
      "None\n"
     ]
    },
    {
     "name": "stderr",
     "output_type": "stream",
     "text": [
      "Traceback (most recent call last):\n",
      "  File \"<ipython-input-8-e1976d1a92dd>\", line 12, in <module>\n",
      "    paper = arxiv.query(id_list=[arxivId])[0]\n",
      "  File \"/Users/jimenezgutierrez.1/opt/anaconda3/lib/python3.7/site-packages/arxiv/arxiv.py\", line 217, in query\n",
      "    id_list=','.join(id_list),\n",
      "TypeError: sequence item 0: expected str instance, NoneType found\n"
     ]
    },
    {
     "name": "stdout",
     "output_type": "stream",
     "text": [
      "1808.00948\n",
      "1707.07128\n",
      "1504.08083\n",
      "1705.07422\n",
      "1805.02474\n",
      "Error\n",
      "None\n"
     ]
    },
    {
     "name": "stderr",
     "output_type": "stream",
     "text": [
      "Traceback (most recent call last):\n",
      "  File \"<ipython-input-8-e1976d1a92dd>\", line 12, in <module>\n",
      "    paper = arxiv.query(id_list=[arxivId])[0]\n",
      "  File \"/Users/jimenezgutierrez.1/opt/anaconda3/lib/python3.7/site-packages/arxiv/arxiv.py\", line 217, in query\n",
      "    id_list=','.join(id_list),\n",
      "TypeError: sequence item 0: expected str instance, NoneType found\n"
     ]
    },
    {
     "name": "stdout",
     "output_type": "stream",
     "text": [
      "1805.09655\n",
      "1511.06645\n",
      "Error\n",
      "None\n"
     ]
    },
    {
     "name": "stderr",
     "output_type": "stream",
     "text": [
      "Traceback (most recent call last):\n",
      "  File \"<ipython-input-8-e1976d1a92dd>\", line 12, in <module>\n",
      "    paper = arxiv.query(id_list=[arxivId])[0]\n",
      "  File \"/Users/jimenezgutierrez.1/opt/anaconda3/lib/python3.7/site-packages/arxiv/arxiv.py\", line 217, in query\n",
      "    id_list=','.join(id_list),\n",
      "TypeError: sequence item 0: expected str instance, NoneType found\n"
     ]
    },
    {
     "name": "stdout",
     "output_type": "stream",
     "text": [
      "1802.05365\n",
      "Error\n",
      "None\n"
     ]
    },
    {
     "name": "stderr",
     "output_type": "stream",
     "text": [
      "Traceback (most recent call last):\n",
      "  File \"<ipython-input-8-e1976d1a92dd>\", line 12, in <module>\n",
      "    paper = arxiv.query(id_list=[arxivId])[0]\n",
      "  File \"/Users/jimenezgutierrez.1/opt/anaconda3/lib/python3.7/site-packages/arxiv/arxiv.py\", line 217, in query\n",
      "    id_list=','.join(id_list),\n",
      "TypeError: sequence item 0: expected str instance, NoneType found\n"
     ]
    },
    {
     "name": "stdout",
     "output_type": "stream",
     "text": [
      "1812.01216\n",
      "1411.1091\n",
      "1711.11556\n",
      "1711.08488\n",
      "1711.04434\n",
      "1406.4773\n",
      "1701.01879\n",
      "1612.00603\n",
      "1511.07122\n",
      "1506.01497\n",
      "1611.01462\n",
      "1512.04412\n",
      "1902.01313\n",
      "1712.06116\n",
      "1606.02185\n",
      "1705.03122\n",
      "1509.05371\n",
      "1712.05319\n",
      "1611.00144\n",
      "1901.02860\n",
      "1903.12473\n",
      "1610.10099\n",
      "1610.02915\n",
      "1808.02194\n",
      "1609.05600\n",
      "1509.08967\n",
      "1708.01101\n",
      "1806.07789\n",
      "1505.03540\n",
      "1808.09075\n"
     ]
    }
   ],
   "source": [
    "# import module \n",
    "import traceback \n",
    "\n",
    "errors = []\n",
    "\n",
    "for id in train.doc_id:\n",
    "    \n",
    "    try:\n",
    "        paper = sch.paper(id,timeout=10)\n",
    "        arxivId = paper['arxivId']\n",
    "        \n",
    "        paper = arxiv.query(id_list=[arxivId])[0]\n",
    "        print(arxivId)\n",
    "        arxiv.download(paper,dirpath='./scirex_tex/',prefer_source_tarfile=True)\n",
    "    except:\n",
    "        print('Error')\n",
    "        print(arxivId)\n",
    "        errors.append(arxivId)\n",
    "        traceback.print_exc()"
   ]
  },
  {
   "cell_type": "code",
   "execution_count": 9,
   "metadata": {},
   "outputs": [
    {
     "data": {
      "text/plain": [
       "[None,\n",
       " None,\n",
       " None,\n",
       " None,\n",
       " '1808.10143',\n",
       " None,\n",
       " '1403.6652',\n",
       " None,\n",
       " None,\n",
       " None,\n",
       " None,\n",
       " None,\n",
       " None,\n",
       " None,\n",
       " None,\n",
       " None,\n",
       " None,\n",
       " None]"
      ]
     },
     "execution_count": 9,
     "metadata": {},
     "output_type": "execute_result"
    }
   ],
   "source": [
    "errors"
   ]
  },
  {
   "cell_type": "code",
   "execution_count": 10,
   "metadata": {},
   "outputs": [
    {
     "data": {
      "text/plain": [
       "18"
      ]
     },
     "execution_count": 10,
     "metadata": {},
     "output_type": "execute_result"
    }
   ],
   "source": [
    "len(errors)"
   ]
  },
  {
   "cell_type": "code",
   "execution_count": 11,
   "metadata": {},
   "outputs": [
    {
     "data": {
      "text/plain": [
       "306"
      ]
     },
     "execution_count": 11,
     "metadata": {},
     "output_type": "execute_result"
    }
   ],
   "source": [
    "len(train)"
   ]
  },
  {
   "cell_type": "code",
   "execution_count": null,
   "metadata": {},
   "outputs": [],
   "source": []
  }
 ],
 "metadata": {
  "kernelspec": {
   "display_name": "Python 3",
   "language": "python",
   "name": "python3"
  },
  "language_info": {
   "codemirror_mode": {
    "name": "ipython",
    "version": 3
   },
   "file_extension": ".py",
   "mimetype": "text/x-python",
   "name": "python",
   "nbconvert_exporter": "python",
   "pygments_lexer": "ipython3",
   "version": "3.7.6"
  }
 },
 "nbformat": 4,
 "nbformat_minor": 4
}
